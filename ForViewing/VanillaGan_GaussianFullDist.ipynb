{
 "cells": [
  {
   "cell_type": "code",
   "execution_count": 1,
   "metadata": {
    "collapsed": true
   },
   "outputs": [],
   "source": [
    "import numpy as np\n",
    "import torch\n",
    "from matplotlib import pyplot as plt\n",
    "%matplotlib inline\n",
    "from tqdm import tqdm_notebook as tqdm\n",
    "import torch\n",
    "from torch.autograd import Variable, grad\n",
    "from torch.nn.functional import binary_cross_entropy_with_logits as bce"
   ]
  },
  {
   "cell_type": "markdown",
   "metadata": {},
   "source": [
    "## Learn to Generate full gaussian distribution of n outputs from n uniform distributed inputs. \n",
    "\n",
    "This is NOT learning to sample from a gaussian. It's learning a mapping from $\\mathbf{n}$ uniformly distributed inputs to $\\mathbf{n}$ gaussian distributed outputs.\n",
    "\n",
    "Scroll to bottom for result.\n",
    "\n",
    "PyTorch implementation help from David Lopez-Paz."
   ]
  },
  {
   "cell_type": "code",
   "execution_count": 2,
   "metadata": {},
   "outputs": [
    {
     "data": {
      "text/plain": [
       "\n",
       "-0.4324\n",
       " 1.0481\n",
       " 0.4481\n",
       "   ⋮    \n",
       " 0.1892\n",
       " 0.7118\n",
       "-0.6208\n",
       "[torch.FloatTensor of size 20000x1]"
      ]
     },
     "execution_count": 2,
     "metadata": {},
     "output_type": "execute_result"
    }
   ],
   "source": [
    "real_data = torch.Tensor(20000, 1)\n",
    "real_data.normal_(0,1)"
   ]
  },
  {
   "cell_type": "code",
   "execution_count": 3,
   "metadata": {},
   "outputs": [
    {
     "data": {
      "text/plain": [
       "(array([    9.,   115.,   751.,  2751.,  5339.,  5994.,  3592.,  1177.,\n",
       "          248.,    24.]),\n",
       " array([-4.03541708, -3.25215588, -2.46889467, -1.68563347, -0.90237226,\n",
       "        -0.11911106,  0.66415014,  1.44741135,  2.23067255,  3.01393375,\n",
       "         3.79719496]),\n",
       " <a list of 10 Patch objects>)"
      ]
     },
     "execution_count": 3,
     "metadata": {},
     "output_type": "execute_result"
    },
    {
     "data": {
      "image/png": "[encoded data removed]",
      "text/plain": [
       "<matplotlib.figure.Figure at 0x10f343810>"
      ]
     },
     "metadata": {},
     "output_type": "display_data"
    }
   ],
   "source": [
    "plt.hist(real_data.numpy())"
   ]
  },
  {
   "cell_type": "code",
   "execution_count": 4,
   "metadata": {
    "collapsed": true
   },
   "outputs": [],
   "source": [
    "class Perceptron(torch.nn.Module):\n",
    "    def __init__(self, sizes, final=None):\n",
    "        super(Perceptron, self).__init__()\n",
    "        layers = []\n",
    "        for i in range(len(sizes) - 1):\n",
    "            layers.append(torch.nn.Linear(sizes[i], sizes[i + 1]))\n",
    "            if i != (len(sizes) - 2):\n",
    "                layers.append(torch.nn.ReLU())\n",
    "        if final is not None:\n",
    "            layers.append(final())\n",
    "        self.net = torch.nn.Sequential(*layers)\n",
    "\n",
    "    def forward(self, x):\n",
    "        return self.net(x)\n",
    "\n",
    "\n",
    "def plot(x, y):\n",
    "    real = x.cpu().data.numpy()\n",
    "    print real.shape\n",
    "    fake = y.cpu().data.numpy()\n",
    "    print fake.shape\n",
    "    #lims = (x.data.min() - 0.1, x.data.max() + 0.1)\n",
    "    xlim = (-3.5, 3.5)\n",
    "    plt.figure(figsize=(2, 2))\n",
    "    plt.hist(real, label='real', bins=np.arange(-3.5, 3.5, 0.1))\n",
    "    plt.hist(fake, alpha=0.25, label='fake', bins=np.arange(-3.5, 3.5, 0.1))\n",
    "    plt.axis('on')\n",
    "    plt.gca().axes.get_xaxis().set_visible(True)\n",
    "    plt.gca().axes.get_yaxis().set_visible(True)\n",
    "    plt.xlim(xlim)\n",
    "    plt.tight_layout(0, 0, 0)\n",
    "    plt.show()\n",
    "\n",
    "\n",
    "def means_gaussian(std = 1, n_samples = 1000):\n",
    "    m = torch.Tensor(n_samples, 1)\n",
    "    return (m.normal_(0,std))\n",
    "\n",
    "\n",
    "def sample_real(n, shape, std=1.):\n",
    "    m = means_gaussian(std, n)\n",
    "    return Variable(m, requires_grad=True)\n",
    "\n",
    "\n",
    "def sample_noise(bs, d):\n",
    "    z = torch.rand(bs, d)\n",
    "    return Variable(z, requires_grad=True)\n",
    "\n"
   ]
  },
  {
   "cell_type": "code",
   "execution_count": 5,
   "metadata": {},
   "outputs": [
    {
     "name": "stdout",
     "output_type": "stream",
     "text": [
      "Perceptron (\n",
      "  (net): Sequential (\n",
      "    (0): Linear (1 -> 512)\n",
      "    (1): ReLU ()\n",
      "    (2): Linear (512 -> 512)\n",
      "    (3): ReLU ()\n",
      "    (4): Linear (512 -> 512)\n",
      "    (5): ReLU ()\n",
      "    (6): Linear (512 -> 1)\n",
      "  )\n",
      ")\n",
      "Perceptron (\n",
      "  (net): Sequential (\n",
      "    (0): Linear (1 -> 512)\n",
      "    (1): ReLU ()\n",
      "    (2): Linear (512 -> 512)\n",
      "    (3): ReLU ()\n",
      "    (4): Linear (512 -> 512)\n",
      "    (5): ReLU ()\n",
      "    (6): Linear (512 -> 1)\n",
      "  )\n",
      ")\n"
     ]
    }
   ],
   "source": [
    "n_iterations = 1500\n",
    "n_latent = 1\n",
    "n_layers = 3\n",
    "n_hidden = 512\n",
    "bs = 256\n",
    "shape = 'gauss'\n",
    "lamD = 10.\n",
    "extraD = 10\n",
    "wgan = False\n",
    "verbose = True\n",
    "v_freq = 40\n",
    "n_samples = 2000\n",
    "\n",
    "netD = Perceptron([1] + [n_hidden] * n_layers + [1])\n",
    "print netD\n",
    "netG = Perceptron([n_latent] + [n_hidden] * n_layers + [1])\n",
    "print netG\n",
    "optD = torch.optim.Adam(netD.parameters())\n",
    "optG = torch.optim.Adam(netG.parameters())\n",
    "\n",
    "p_real = sample_real(n_samples, shape)\n",
    "p_nois = sample_noise(n_samples, n_latent)\n",
    "#print p_nois.data.numpy().shape\n",
    "#print p_real.data.numpy().shape"
   ]
  },
  {
   "cell_type": "code",
   "execution_count": 6,
   "metadata": {
    "collapsed": true
   },
   "outputs": [],
   "source": [
    "def objective_wgan(fakeD, realD):\n",
    "    return fakeD.mean() - realD.mean()\n",
    "\n",
    "\n",
    "def objective_gan(fakeD, realD):\n",
    "    labD = torch.cat((torch.ones(fake.size(0), 1) - 1e-3,\n",
    "                      torch.zeros(real.size(0), 1) + 1e-3))\n",
    "    return bce(torch.cat((fakeD, realD)), Variable(labD))"
   ]
  },
  {
   "cell_type": "code",
   "execution_count": 7,
   "metadata": {
    "scrolled": true
   },
   "outputs": [
    {
     "name": "stdout",
     "output_type": "stream",
     "text": [
      "Epoch #1: Generative Loss: -0.260052442551, Discriminative Loss: 0.298486590385\n",
      "(2000, 1)\n",
      "(2000, 1)\n"
     ]
    },
    {
     "data": {
      "image/png": "[encoded data removed]",
      "text/plain": [
       "<matplotlib.figure.Figure at 0x10f307510>"
      ]
     },
     "metadata": {},
     "output_type": "display_data"
    },
    {
     "name": "stdout",
     "output_type": "stream",
     "text": [
      "Epoch #41: Generative Loss: -0.503390610218, Discriminative Loss: 0.524217307568\n",
      "(2000, 1)\n",
      "(2000, 1)\n"
     ]
    },
    {
     "data": {
      "image/png": "[encoded data removed]",
      "text/plain": [
       "<matplotlib.figure.Figure at 0x114780f50>"
      ]
     },
     "metadata": {},
     "output_type": "display_data"
    },
    {
     "name": "stdout",
     "output_type": "stream",
     "text": [
      "Epoch #81: Generative Loss: -0.568497180939, Discriminative Loss: 0.58541983366\n",
      "(2000, 1)\n",
      "(2000, 1)\n"
     ]
    },
    {
     "data": {
      "image/png": "[encoded data removed]",
      "text/plain": [
       "<matplotlib.figure.Figure at 0x11690b8d0>"
      ]
     },
     "metadata": {},
     "output_type": "display_data"
    },
    {
     "name": "stdout",
     "output_type": "stream",
     "text": [
      "Epoch #121: Generative Loss: -0.690188407898, Discriminative Loss: 0.687747657299\n",
      "(2000, 1)\n",
      "(2000, 1)\n"
     ]
    },
    {
     "data": {
      "image/png": "[encoded data removed]",
      "text/plain": [
       "<matplotlib.figure.Figure at 0x1167de450>"
      ]
     },
     "metadata": {},
     "output_type": "display_data"
    },
    {
     "name": "stdout",
     "output_type": "stream",
     "text": [
      "Epoch #161: Generative Loss: -0.670769393444, Discriminative Loss: 0.676881194115\n",
      "(2000, 1)\n",
      "(2000, 1)\n"
     ]
    },
    {
     "data": {
      "image/png": "[encoded data removed]",
      "text/plain": [
       "<matplotlib.figure.Figure at 0x116aea9d0>"
      ]
     },
     "metadata": {},
     "output_type": "display_data"
    },
    {
     "name": "stdout",
     "output_type": "stream",
     "text": [
      "Epoch #201: Generative Loss: -0.675805985928, Discriminative Loss: 0.672660887241\n",
      "(2000, 1)\n",
      "(2000, 1)\n"
     ]
    },
    {
     "data": {
      "image/png": "[encoded data removed]",
      "text/plain": [
       "<matplotlib.figure.Figure at 0x11564bdd0>"
      ]
     },
     "metadata": {},
     "output_type": "display_data"
    },
    {
     "name": "stdout",
     "output_type": "stream",
     "text": [
      "Epoch #241: Generative Loss: -0.663189411163, Discriminative Loss: 0.678857922554\n",
      "(2000, 1)\n",
      "(2000, 1)\n"
     ]
    },
    {
     "data": {
      "image/png": "[encoded data removed]",
      "text/plain": [
       "<matplotlib.figure.Figure at 0x115606550>"
      ]
     },
     "metadata": {},
     "output_type": "display_data"
    },
    {
     "name": "stdout",
     "output_type": "stream",
     "text": [
      "Epoch #281: Generative Loss: -0.67523676157, Discriminative Loss: 0.678476154804\n",
      "(2000, 1)\n",
      "(2000, 1)\n"
     ]
    },
    {
     "data": {
      "image/png": "[encoded data removed]",
      "text/plain": [
       "<matplotlib.figure.Figure at 0x1146c4d10>"
      ]
     },
     "metadata": {},
     "output_type": "display_data"
    },
    {
     "name": "stdout",
     "output_type": "stream",
     "text": [
      "Epoch #321: Generative Loss: -0.678920686245, Discriminative Loss: 0.682760238647\n",
      "(2000, 1)\n",
      "(2000, 1)\n"
     ]
    },
    {
     "data": {
      "image/png": "[encoded data removed]",
      "text/plain": [
       "<matplotlib.figure.Figure at 0x116d53c10>"
      ]
     },
     "metadata": {},
     "output_type": "display_data"
    },
    {
     "name": "stdout",
     "output_type": "stream",
     "text": [
      "Epoch #361: Generative Loss: -0.673099756241, Discriminative Loss: 0.687670528889\n",
      "(2000, 1)\n",
      "(2000, 1)\n"
     ]
    },
    {
     "data": {
      "image/png": "[encoded data removed]",
      "text/plain": [
       "<matplotlib.figure.Figure at 0x115606b50>"
      ]
     },
     "metadata": {},
     "output_type": "display_data"
    },
    {
     "name": "stdout",
     "output_type": "stream",
     "text": [
      "Epoch #401: Generative Loss: -0.681776583195, Discriminative Loss: 0.677998781204\n",
      "(2000, 1)\n",
      "(2000, 1)\n"
     ]
    },
    {
     "data": {
      "image/png": "[encoded data removed]",
      "text/plain": [
       "<matplotlib.figure.Figure at 0x1170be590>"
      ]
     },
     "metadata": {},
     "output_type": "display_data"
    },
    {
     "name": "stdout",
     "output_type": "stream",
     "text": [
      "Epoch #441: Generative Loss: -0.679240882397, Discriminative Loss: 0.685328900814\n",
      "(2000, 1)\n",
      "(2000, 1)\n"
     ]
    },
    {
     "data": {
      "image/png": "[encoded data removed]",
      "text/plain": [
       "<matplotlib.figure.Figure at 0x116902990>"
      ]
     },
     "metadata": {},
     "output_type": "display_data"
    },
    {
     "name": "stdout",
     "output_type": "stream",
     "text": [
      "Epoch #481: Generative Loss: -0.682001888752, Discriminative Loss: 0.670457839966\n",
      "(2000, 1)\n",
      "(2000, 1)\n"
     ]
    },
    {
     "data": {
      "image/png": "[encoded data removed]",
      "text/plain": [
       "<matplotlib.figure.Figure at 0x115888150>"
      ]
     },
     "metadata": {},
     "output_type": "display_data"
    },
    {
     "name": "stdout",
     "output_type": "stream",
     "text": [
      "Epoch #521: Generative Loss: -0.68410128355, Discriminative Loss: 0.68581956625\n",
      "(2000, 1)\n",
      "(2000, 1)\n"
     ]
    },
    {
     "data": {
      "image/png": "[encoded data removed]",
      "text/plain": [
       "<matplotlib.figure.Figure at 0x1171af290>"
      ]
     },
     "metadata": {},
     "output_type": "display_data"
    },
    {
     "name": "stdout",
     "output_type": "stream",
     "text": [
      "Epoch #561: Generative Loss: -0.689300119877, Discriminative Loss: 0.689657390118\n",
      "(2000, 1)\n",
      "(2000, 1)\n"
     ]
    },
    {
     "data": {
      "image/png": "[encoded data removed]",
      "text/plain": [
       "<matplotlib.figure.Figure at 0x115b1ddd0>"
      ]
     },
     "metadata": {},
     "output_type": "display_data"
    },
    {
     "name": "stdout",
     "output_type": "stream",
     "text": [
      "Epoch #601: Generative Loss: -0.689965426922, Discriminative Loss: 0.690603077412\n",
      "(2000, 1)\n",
      "(2000, 1)\n"
     ]
    },
    {
     "data": {
      "image/png": "[encoded data removed]",
      "text/plain": [
       "<matplotlib.figure.Figure at 0x117297c50>"
      ]
     },
     "metadata": {},
     "output_type": "display_data"
    },
    {
     "name": "stdout",
     "output_type": "stream",
     "text": [
      "Epoch #641: Generative Loss: -0.69189363718, Discriminative Loss: 0.685658454895\n",
      "(2000, 1)\n",
      "(2000, 1)\n"
     ]
    },
    {
     "data": {
      "image/png": "[encoded data removed]",
      "text/plain": [
       "<matplotlib.figure.Figure at 0x1159b6650>"
      ]
     },
     "metadata": {},
     "output_type": "display_data"
    },
    {
     "name": "stdout",
     "output_type": "stream",
     "text": [
      "Epoch #681: Generative Loss: -0.68815600872, Discriminative Loss: 0.688290774822\n",
      "(2000, 1)\n",
      "(2000, 1)\n"
     ]
    },
    {
     "data": {
      "image/png": "[encoded data removed]",
      "text/plain": [
       "<matplotlib.figure.Figure at 0x115b1dc90>"
      ]
     },
     "metadata": {},
     "output_type": "display_data"
    },
    {
     "name": "stdout",
     "output_type": "stream",
     "text": [
      "Epoch #721: Generative Loss: -0.691692769527, Discriminative Loss: 0.698329806328\n",
      "(2000, 1)\n",
      "(2000, 1)\n"
     ]
    },
    {
     "data": {
      "image/png": "[encoded data removed]",
      "text/plain": [
       "<matplotlib.figure.Figure at 0x116968650>"
      ]
     },
     "metadata": {},
     "output_type": "display_data"
    },
    {
     "name": "stdout",
     "output_type": "stream",
     "text": [
      "Epoch #761: Generative Loss: -0.689468741417, Discriminative Loss: 0.687273263931\n",
      "(2000, 1)\n",
      "(2000, 1)\n"
     ]
    },
    {
     "data": {
      "image/png": "[encoded data removed]",
      "text/plain": [
       "<matplotlib.figure.Figure at 0x11594a990>"
      ]
     },
     "metadata": {},
     "output_type": "display_data"
    },
    {
     "name": "stdout",
     "output_type": "stream",
     "text": [
      "Epoch #801: Generative Loss: -0.689407348633, Discriminative Loss: 0.683689415455\n",
      "(2000, 1)\n",
      "(2000, 1)\n"
     ]
    },
    {
     "data": {
      "image/png": "[encoded data removed]",
      "text/plain": [
       "<matplotlib.figure.Figure at 0x1170aa450>"
      ]
     },
     "metadata": {},
     "output_type": "display_data"
    },
    {
     "name": "stdout",
     "output_type": "stream",
     "text": [
      "Epoch #841: Generative Loss: -0.693039536476, Discriminative Loss: 0.693459510803\n",
      "(2000, 1)\n",
      "(2000, 1)\n"
     ]
    },
    {
     "data": {
      "image/png": "[encoded data removed]",
      "text/plain": [
       "<matplotlib.figure.Figure at 0x11702f810>"
      ]
     },
     "metadata": {},
     "output_type": "display_data"
    },
    {
     "name": "stdout",
     "output_type": "stream",
     "text": [
      "Epoch #881: Generative Loss: -0.691994190216, Discriminative Loss: 0.687223851681\n",
      "(2000, 1)\n",
      "(2000, 1)\n"
     ]
    },
    {
     "data": {
      "image/png": "[encoded data removed]",
      "text/plain": [
       "<matplotlib.figure.Figure at 0x1158f5dd0>"
      ]
     },
     "metadata": {},
     "output_type": "display_data"
    },
    {
     "name": "stdout",
     "output_type": "stream",
     "text": [
      "Epoch #921: Generative Loss: -0.687787175179, Discriminative Loss: 0.690337777138\n",
      "(2000, 1)\n",
      "(2000, 1)\n"
     ]
    },
    {
     "data": {
      "image/png": "[encoded data removed]",
      "text/plain": [
       "<matplotlib.figure.Figure at 0x116196bd0>"
      ]
     },
     "metadata": {},
     "output_type": "display_data"
    },
    {
     "name": "stdout",
     "output_type": "stream",
     "text": [
      "Epoch #961: Generative Loss: -0.687028586864, Discriminative Loss: 0.689517438412\n",
      "(2000, 1)\n",
      "(2000, 1)\n"
     ]
    },
    {
     "data": {
      "image/png": "[encoded data removed]",
      "text/plain": [
       "<matplotlib.figure.Figure at 0x116171950>"
      ]
     },
     "metadata": {},
     "output_type": "display_data"
    },
    {
     "name": "stdout",
     "output_type": "stream",
     "text": [
      "Epoch #1001: Generative Loss: -0.686984121799, Discriminative Loss: 0.685170948505\n",
      "(2000, 1)\n",
      "(2000, 1)\n"
     ]
    },
    {
     "data": {
      "image/png": "[encoded data removed]",
      "text/plain": [
       "<matplotlib.figure.Figure at 0x116982e10>"
      ]
     },
     "metadata": {},
     "output_type": "display_data"
    },
    {
     "name": "stdout",
     "output_type": "stream",
     "text": [
      "Epoch #1041: Generative Loss: -0.684000968933, Discriminative Loss: 0.68613409996\n",
      "(2000, 1)\n",
      "(2000, 1)\n"
     ]
    },
    {
     "data": {
      "image/png": "[encoded data removed]",
      "text/plain": [
       "<matplotlib.figure.Figure at 0x115961610>"
      ]
     },
     "metadata": {},
     "output_type": "display_data"
    },
    {
     "name": "stdout",
     "output_type": "stream",
     "text": [
      "Epoch #1081: Generative Loss: -0.685297012329, Discriminative Loss: 0.691672861576\n",
      "(2000, 1)\n",
      "(2000, 1)\n"
     ]
    },
    {
     "data": {
      "image/png": "[encoded data removed]",
      "text/plain": [
       "<matplotlib.figure.Figure at 0x10a2c1110>"
      ]
     },
     "metadata": {},
     "output_type": "display_data"
    },
    {
     "name": "stdout",
     "output_type": "stream",
     "text": [
      "Epoch #1121: Generative Loss: -0.687580227852, Discriminative Loss: 0.682962536812\n",
      "(2000, 1)\n",
      "(2000, 1)\n"
     ]
    },
    {
     "data": {
      "image/png": "[encoded data removed]",
      "text/plain": [
       "<matplotlib.figure.Figure at 0x117110a90>"
      ]
     },
     "metadata": {},
     "output_type": "display_data"
    },
    {
     "name": "stdout",
     "output_type": "stream",
     "text": [
      "Epoch #1161: Generative Loss: -0.689613640308, Discriminative Loss: 0.691419482231\n",
      "(2000, 1)\n",
      "(2000, 1)\n"
     ]
    },
    {
     "data": {
      "image/png": "[encoded data removed]",
      "text/plain": [
       "<matplotlib.figure.Figure at 0x115650250>"
      ]
     },
     "metadata": {},
     "output_type": "display_data"
    },
    {
     "name": "stdout",
     "output_type": "stream",
     "text": [
      "Epoch #1201: Generative Loss: -0.694267749786, Discriminative Loss: 0.695186376572\n",
      "(2000, 1)\n",
      "(2000, 1)\n"
     ]
    },
    {
     "data": {
      "image/png": "[encoded data removed]",
      "text/plain": [
       "<matplotlib.figure.Figure at 0x1169675d0>"
      ]
     },
     "metadata": {},
     "output_type": "display_data"
    },
    {
     "name": "stdout",
     "output_type": "stream",
     "text": [
      "Epoch #1241: Generative Loss: -0.68086785078, Discriminative Loss: 0.682865679264\n",
      "(2000, 1)\n",
      "(2000, 1)\n"
     ]
    },
    {
     "data": {
      "image/png": "[encoded data removed]",
      "text/plain": [
       "<matplotlib.figure.Figure at 0x116946250>"
      ]
     },
     "metadata": {},
     "output_type": "display_data"
    },
    {
     "name": "stdout",
     "output_type": "stream",
     "text": [
      "Epoch #1281: Generative Loss: -0.688780248165, Discriminative Loss: 0.684940516949\n",
      "(2000, 1)\n",
      "(2000, 1)\n"
     ]
    },
    {
     "data": {
      "image/png": "[encoded data removed]",
      "text/plain": [
       "<matplotlib.figure.Figure at 0x115651910>"
      ]
     },
     "metadata": {},
     "output_type": "display_data"
    },
    {
     "name": "stdout",
     "output_type": "stream",
     "text": [
      "Epoch #1321: Generative Loss: -0.690812528133, Discriminative Loss: 0.683972537518\n",
      "(2000, 1)\n",
      "(2000, 1)\n"
     ]
    },
    {
     "data": {
      "image/png": "[encoded data removed]",
      "text/plain": [
       "<matplotlib.figure.Figure at 0x116972210>"
      ]
     },
     "metadata": {},
     "output_type": "display_data"
    },
    {
     "name": "stdout",
     "output_type": "stream",
     "text": [
      "Epoch #1361: Generative Loss: -0.687510192394, Discriminative Loss: 0.681487083435\n",
      "(2000, 1)\n",
      "(2000, 1)\n"
     ]
    },
    {
     "data": {
      "image/png": "[encoded data removed]",
      "text/plain": [
       "<matplotlib.figure.Figure at 0x116d89410>"
      ]
     },
     "metadata": {},
     "output_type": "display_data"
    },
    {
     "name": "stdout",
     "output_type": "stream",
     "text": [
      "Epoch #1401: Generative Loss: -0.682307958603, Discriminative Loss: 0.678197264671\n",
      "(2000, 1)\n",
      "(2000, 1)\n"
     ]
    },
    {
     "data": {
      "image/png": "[encoded data removed]",
      "text/plain": [
       "<matplotlib.figure.Figure at 0x1158ef110>"
      ]
     },
     "metadata": {},
     "output_type": "display_data"
    },
    {
     "name": "stdout",
     "output_type": "stream",
     "text": [
      "Epoch #1441: Generative Loss: -0.6788610816, Discriminative Loss: 0.687417030334\n",
      "(2000, 1)\n",
      "(2000, 1)\n"
     ]
    },
    {
     "data": {
      "image/png": "[encoded data removed]",
      "text/plain": [
       "<matplotlib.figure.Figure at 0x116acba90>"
      ]
     },
     "metadata": {},
     "output_type": "display_data"
    },
    {
     "name": "stdout",
     "output_type": "stream",
     "text": [
      "Epoch #1481: Generative Loss: -0.684826016426, Discriminative Loss: 0.687934756279\n",
      "(2000, 1)\n",
      "(2000, 1)\n"
     ]
    },
    {
     "data": {
      "image/png": "[encoded data removed]",
      "text/plain": [
       "<matplotlib.figure.Figure at 0x114db9c90>"
      ]
     },
     "metadata": {},
     "output_type": "display_data"
    }
   ],
   "source": [
    "\n",
    "objective = objective_wgan if wgan else objective_gan\n",
    "\n",
    "iter_range = range(n_iterations)\n",
    "\n",
    "#print out time information if verbose is True\n",
    "#if verbose:\n",
    "#    iter_range = tqdm(iter_range)\n",
    "\n",
    "\n",
    "for iteration in iter_range:\n",
    "    for extra in range(extraD):\n",
    "        \n",
    "        # create a sample of real data in the shape of interest\n",
    "        real = sample_real(bs, shape)\n",
    "        #print \"Real size:\", real.data.numpy().shape\n",
    "        fake = netG(sample_noise(bs, n_latent))\n",
    "        #print fake.data.numpy().shape\n",
    "        data = torch.cat((fake, real), 0)\n",
    "\n",
    "        optD.zero_grad()\n",
    "        lossD = objective(netD(real), netD(fake))\n",
    "        gradD = grad(lossD * bs, fake, create_graph=True)[0]\n",
    "        reguD = gradD.norm(2, 1).clamp(1).mean()\n",
    "        (lossD + lamD * reguD).backward()\n",
    "        optD.step()\n",
    "\n",
    "    real = sample_real(bs, shape)\n",
    "    fake = netG(sample_noise(bs, n_latent))\n",
    "\n",
    "    optG.zero_grad()\n",
    "    lossG = - objective(netD(real), netD(fake))\n",
    "    (lossG).backward()\n",
    "    optG.step()\n",
    "\n",
    "    if (iteration % v_freq) == 0:\n",
    "        #print \"Iteration: \" iteration, \"Discriminative Loss: \" lossD.data[0], \n",
    "              #\"Generative Loss: \" lossG.data[0], reguD.data[0]\n",
    "        print(\"Epoch #{}: Generative Loss: {}, Discriminative Loss: {}\".format(iteration + 1, lossG.data[0], lossD.data[0]))\n",
    "        plot(p_real, netG(p_nois))\n",
    "\n",
    "\n",
    "\n",
    "#Gloss, Dloss = train(netG, netD, shape = shape, wgan=False, verbose = False)\n",
    "\n"
   ]
  },
  {
   "cell_type": "code",
   "execution_count": 19,
   "metadata": {},
   "outputs": [
    {
     "data": {
      "image/png": "[encoded data removed]",
      "text/plain": [
       "<matplotlib.figure.Figure at 0x114bc8810>"
      ]
     },
     "metadata": {},
     "output_type": "display_data"
    }
   ],
   "source": [
    "outputs = netG.forward(Variable(torch.rand(10000,1)))\n",
    "fig = plt.figure(figsize=(10,7))\n",
    "plt.hist(outputs.data.numpy(), alpha = 0.75, label = \"fake\", bins=np.arange(-3.5, 3.5, 0.1))\n",
    "plt.hist(sample_real(10000,shape).data.numpy(), alpha = 0.75, label = \"real\", bins=np.arange(-3.5, 3.5, 0.1))\n",
    "plt.xlabel(\"Value\")\n",
    "plt.ylabel(\"Count\")\n",
    "plt.legend(loc='upper right')\n",
    "plt.title( str(n_layers) + \" Layer Perceptron, \" + str(n_hidden) + \n",
    "          \" hidden nodes per layer, \" + str(bs) + \" batchsize \" +   str(n_iterations) + \" Epochs\")\n",
    "plt.text(-3.5, 350, 'mean: ' + str(outputs.data.numpy().mean()), fontsize = 15, alpha = 0.8, color = 'xkcd:blue')\n",
    "plt.text(-3.5, 310, 'std: ' + str(outputs.data.numpy().std()), fontsize = 15, alpha = 0.8, color = 'xkcd:blue')\n",
    "plt.text(-3.5, 250, 'real mean: 0', fontsize = 15, alpha = 0.85, color = 'xkcd:orange')\n",
    "plt.text(-3.5, 210, 'real std: 1', fontsize = 15, alpha = 0.85, color = 'xkcd:orange')\n",
    "plt.savefig(\"plots/GeneratedNormalSample_LinearReluPerceptronGAN\" + str(n_layers) + \"Layers_\" + str(n_hidden) + \n",
    "            \"hiddenPerLayer_size\" + str(bs) + \"Batch_\" + str(n_iterations) + \"Epochs\")"
   ]
  },
  {
   "cell_type": "code",
   "execution_count": 9,
   "metadata": {},
   "outputs": [
    {
     "name": "stdout",
     "output_type": "stream",
     "text": [
      "(1000, 1)\n",
      "(1000, 1)\n"
     ]
    },
    {
     "data": {
      "image/png": "[encoded data removed]",
      "text/plain": [
       "<matplotlib.figure.Figure at 0x1146a3250>"
      ]
     },
     "metadata": {},
     "output_type": "display_data"
    }
   ],
   "source": [
    "plot(outputs, sample_real(1000,shape))"
   ]
  },
  {
   "cell_type": "code",
   "execution_count": 14,
   "metadata": {},
   "outputs": [
    {
     "data": {
      "text/plain": [
       "0.12060061"
      ]
     },
     "execution_count": 14,
     "metadata": {},
     "output_type": "execute_result"
    }
   ],
   "source": [
    "outputs.data.numpy().mean()"
   ]
  },
  {
   "cell_type": "code",
   "execution_count": null,
   "metadata": {
    "collapsed": true
   },
   "outputs": [],
   "source": []
  }
 ],
 "metadata": {
  "kernelspec": {
   "display_name": "Python 2",
   "language": "python",
   "name": "python2"
  },
  "language_info": {
   "codemirror_mode": {
    "name": "ipython",
    "version": 2
   },
   "file_extension": ".py",
   "mimetype": "text/x-python",
   "name": "python",
   "nbconvert_exporter": "python",
   "pygments_lexer": "ipython2",
   "version": "2.7.13"
  }
 },
 "nbformat": 4,
 "nbformat_minor": 2
}
